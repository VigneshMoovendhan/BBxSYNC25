{
 "cells": [
  {
   "cell_type": "markdown",
   "id": "9a7e174c",
   "metadata": {},
   "source": [
    "AI BASED RESEARCH AND REASONING MULTI AGENT SYSTEM"
   ]
  },
  {
   "cell_type": "code",
   "execution_count": 1,
   "id": "24faa561",
   "metadata": {},
   "outputs": [
    {
     "name": "stdout",
     "output_type": "stream",
     "text": [
      "✅ Libraries imported successfully.\n"
     ]
    }
   ],
   "source": [
    "# --- 1. Imports and Setup ---\n",
    "import os\n",
    "from typing import TypedDict, List\n",
    "from dotenv import load_dotenv\n",
    "\n",
    "from langchain_community.tools.tavily_search import TavilySearchResults\n",
    "from langchain_core.messages import BaseMessage, HumanMessage, ToolMessage, AIMessage\n",
    "from langchain_core.prompts import ChatPromptTemplate\n",
    "from langchain_openai import ChatOpenAI\n",
    "from langgraph.graph import StateGraph, END\n",
    "from langgraph.prebuilt import ToolNode\n",
    "\n",
    "print(\"✅ Libraries imported successfully.\")"
   ]
  },
  {
   "cell_type": "code",
   "execution_count": 2,
   "id": "16f4d386",
   "metadata": {},
   "outputs": [
    {
     "name": "stdout",
     "output_type": "stream",
     "text": [
      "🔑 Environment variables loaded successfully.\n"
     ]
    }
   ],
   "source": [
    "# --- 2. Load Environment Variables ---\n",
    "load_dotenv()\n",
    "OPENAI_API_KEY = os.getenv(\"OPENAI_API_KEY\")\n",
    "TAVILY_API_KEY = os.getenv(\"TAVILY_API_KEY\")\n",
    "\n",
    "if not OPENAI_API_KEY or not TAVILY_API_KEY:\n",
    "    raise ValueError(\"❌ Missing API keys. Please set OPENAI_API_KEY and TAVILY_API_KEY in your .env file.\")\n",
    "\n",
    "print(\"🔑 Environment variables loaded successfully.\")\n"
   ]
  },
  {
   "cell_type": "code",
   "execution_count": 3,
   "id": "fd87a7e3",
   "metadata": {},
   "outputs": [
    {
     "name": "stdout",
     "output_type": "stream",
     "text": [
      "📘 AgentState schema defined.\n"
     ]
    }
   ],
   "source": [
    "# --- 3. Define State Structure ---\n",
    "class AgentState(TypedDict):\n",
    "    messages: List[BaseMessage]\n",
    "    topic: str\n",
    "    report: str\n",
    "\n",
    "print(\"📘 AgentState schema defined.\")\n"
   ]
  },
  {
   "cell_type": "code",
   "execution_count": 4,
   "id": "a612c540",
   "metadata": {},
   "outputs": [
    {
     "name": "stdout",
     "output_type": "stream",
     "text": [
      "⚙️ Initializing tools and models...\n",
      "✅ Model bound with tools.\n",
      "✅ Tools and models initialized.\n"
     ]
    }
   ],
   "source": [
    "# --- 4. Initialize Tools and Models ---\n",
    "print(\"⚙️ Initializing tools and models...\")\n",
    "\n",
    "tavily_tool = TavilySearchResults(max_results=4, description=\"A search engine tool\")\n",
    "tools = [tavily_tool]\n",
    "tool_node = ToolNode(tools=tools)\n",
    "\n",
    "model = ChatOpenAI(model=\"gpt-4o\", temperature=0, api_key=OPENAI_API_KEY)\n",
    "\n",
    "try:\n",
    "    research_model = model.bind_tools(tools)\n",
    "    print(\"✅ Model bound with tools.\")\n",
    "except Exception:\n",
    "    research_model = model\n",
    "    print(\"⚠️ bind_tools() not available; using model without binding.\")\n",
    "\n",
    "print(\"✅ Tools and models initialized.\")\n"
   ]
  },
  {
   "cell_type": "code",
   "execution_count": 5,
   "id": "6cc7ca1d",
   "metadata": {},
   "outputs": [
    {
     "name": "stdout",
     "output_type": "stream",
     "text": [
      "✅ Node functions defined.\n"
     ]
    }
   ],
   "source": [
    "# --- 5. Define Node Functions (inline in notebook) ---\n",
    "\n",
    "def researcher_node(state: AgentState):\n",
    "    topic = state.get(\"topic\", \"\")\n",
    "    print(f\"🔍 Researching topic: {topic}\")\n",
    "    prompt = ChatPromptTemplate.from_messages([\n",
    "        (\"system\", \"You are a world-class researcher. Use the search tool to find the most relevant and up-to-date information on the given topic.\"),\n",
    "        (\"human\", \"Please research the topic: {topic}\")\n",
    "    ])\n",
    "    runnable = prompt | research_model\n",
    "    response = runnable.invoke({\"topic\": topic})\n",
    "    return {\"messages\": [response]}\n",
    "\n",
    "def analyst_node(state: AgentState):\n",
    "    print(\"📊 Running Analyst Node...\")\n",
    "    prompt = ChatPromptTemplate.from_messages([\n",
    "        (\"system\", \"You are a senior research analyst. Summarize key insights from the search results.\"),\n",
    "        (\"user\", \"Here are the search results: {search_results}\")\n",
    "    ])\n",
    "    runnable = prompt | model\n",
    "    last_msg = state[\"messages\"][-1]\n",
    "    search_content = getattr(last_msg, \"content\", str(last_msg))\n",
    "    response = runnable.invoke({\"search_results\": search_content})\n",
    "    return {\"messages\": [response]}\n",
    "\n",
    "def writer_node(state: AgentState):\n",
    "    print(\"✍️ Writing final report...\")\n",
    "    prompt = ChatPromptTemplate.from_messages([\n",
    "        (\"system\", \"You are a professional report writer. Create a structured report with title, executive summary, and insights.\"),\n",
    "        (\"user\", \"Here are the insights: {insights}\")\n",
    "    ])\n",
    "    runnable = prompt | model\n",
    "    last_msg = state[\"messages\"][-1]\n",
    "    insights = getattr(last_msg, \"content\", str(last_msg))\n",
    "    response = runnable.invoke({\"insights\": insights})\n",
    "    return {\"messages\": [response], \"report\": getattr(response, \"content\", str(response))}\n",
    "print(\"✅ Node functions defined.\")"
   ]
  },
  {
   "cell_type": "code",
   "execution_count": 6,
   "id": "13fe6679",
   "metadata": {},
   "outputs": [
    {
     "name": "stdout",
     "output_type": "stream",
     "text": [
      "🧩 Building the LangGraph workflow...\n",
      "✅ Graph compiled successfully.\n"
     ]
    }
   ],
   "source": [
    "# --- 6. Build the Graph ---\n",
    "print(\"🧩 Building the LangGraph workflow...\")\n",
    "\n",
    "workflow = StateGraph(AgentState)\n",
    "workflow.add_node(\"researcher\", researcher_node)\n",
    "workflow.add_node(\"tool_node\", tool_node)\n",
    "workflow.add_node(\"analyst\", analyst_node)\n",
    "workflow.add_node(\"writer\", writer_node)\n",
    "\n",
    "workflow.set_entry_point(\"researcher\")\n",
    "workflow.add_edge(\"researcher\", \"tool_node\")\n",
    "workflow.add_edge(\"tool_node\", \"analyst\")\n",
    "workflow.add_edge(\"analyst\", \"writer\")\n",
    "workflow.add_edge(\"writer\", END)\n",
    "\n",
    "app = workflow.compile()\n",
    "\n",
    "print(\"✅ Graph compiled successfully.\")\n"
   ]
  },
  {
   "cell_type": "code",
   "execution_count": 8,
   "id": "83e92530",
   "metadata": {},
   "outputs": [
    {
     "name": "stdout",
     "output_type": "stream",
     "text": [
      "🧱 ASCII Representation of the Graph:\n",
      "+-----------+  \n",
      "| __start__ |  \n",
      "+-----------+  \n",
      "       *       \n",
      "       *       \n",
      "       *       \n",
      "+------------+ \n",
      "| researcher | \n",
      "+------------+ \n",
      "       *       \n",
      "       *       \n",
      "       *       \n",
      "+-----------+  \n",
      "| tool_node |  \n",
      "+-----------+  \n",
      "       *       \n",
      "       *       \n",
      "       *       \n",
      "  +---------+  \n",
      "  | analyst |  \n",
      "  +---------+  \n",
      "       *       \n",
      "       *       \n",
      "       *       \n",
      "  +--------+   \n",
      "  | writer |   \n",
      "  +--------+   \n",
      "       *       \n",
      "       *       \n",
      "       *       \n",
      "  +---------+  \n",
      "  | __end__ |  \n",
      "  +---------+  \n",
      "None\n"
     ]
    },
    {
     "data": {
      "image/png": "[encoded data removed]",
      "text/plain": [
       "<IPython.core.display.Image object>"
      ]
     },
     "metadata": {},
     "output_type": "display_data"
    },
    {
     "name": "stdout",
     "output_type": "stream",
     "text": [
      "✅ Displayed workflow graph as image.\n"
     ]
    }
   ],
   "source": [
    "# --- 7. Visualize the Graph (Updated for new LangGraph) ---\n",
    "\n",
    "print(\"🧱 ASCII Representation of the Graph:\")\n",
    "\n",
    "try:\n",
    "    # In latest versions, visualization is available from the compiled app\n",
    "    print(app.get_graph().print_ascii())\n",
    "except AttributeError:\n",
    "    try:\n",
    "        # Fallback: some builds use .print_ascii() directly\n",
    "        print(workflow.print_ascii())\n",
    "    except AttributeError:\n",
    "        print(\"⚠️ This version of LangGraph does not support .print_ascii(). Try upgrading to latest version.\")\n",
    "\n",
    "# Optional: Mermaid or PNG visualization\n",
    "try:\n",
    "    from IPython.display import Image, display\n",
    "    display(Image(app.get_graph().draw_mermaid_png()))\n",
    "    print(\"✅ Displayed workflow graph as image.\")\n",
    "except Exception as e:\n",
    "    print(\"⚠️ Could not render image graph (try installing graphviz):\", e)\n"
   ]
  },
  {
   "cell_type": "code",
   "execution_count": 9,
   "id": "96181f15",
   "metadata": {},
   "outputs": [
    {
     "name": "stdout",
     "output_type": "stream",
     "text": [
      "🚀 Running the graph for topic: Latest advancements in AI-powered drug discovery\n",
      "🔍 Researching topic: Latest advancements in AI-powered drug discovery\n",
      "📊 Running Analyst Node...\n",
      "✍️ Writing final report...\n",
      "✅ Run complete.\n"
     ]
    },
    {
     "data": {
      "text/markdown": [
       "# Report: The Transformative Impact of Artificial Intelligence on Drug Discovery and Development\n",
       "\n",
       "## Executive Summary\n",
       "\n",
       "The integration of artificial intelligence (AI) into drug discovery and development is revolutionizing the pharmaceutical industry. This report explores the key insights into how AI is reshaping the drug development landscape, addressing traditional challenges, and creating new economic opportunities. AI's ability to enhance target identification, improve economic and time efficiency, and attract significant investment underscores its transformative potential. As AI continues to evolve, it is expected to significantly increase the success rate of developing new therapies, offering a promising future for the industry.\n",
       "\n",
       "## Insights\n",
       "\n",
       "### 1. AI Integration in Drug Development\n",
       "\n",
       "AI is being seamlessly integrated across the entire drug development workflow, from disease target identification to drug discovery. This integration is crucial in addressing the inherent challenges of traditional drug development methods, which are often characterized by high costs, lengthy timelines, and high failure rates. By leveraging AI, pharmaceutical companies can streamline processes, enhance precision, and improve outcomes.\n",
       "\n",
       "### 2. Advancements in Target Identification\n",
       "\n",
       "AI is playing a pivotal role in enhancing the process of therapeutic target exploration. It enables the analysis of large datasets and complex biological networks, making target identification more efficient. This advancement not only increases the success rate of drug development but also accelerates the validation of AI-identified targets. Notably, some AI-derived drugs are already entering clinical trials, marking a significant milestone in the industry.\n",
       "\n",
       "### 3. Economic and Time Efficiency\n",
       "\n",
       "The traditional drug discovery process is both expensive and time-consuming, with pre-clinical stages alone taking three to six years and costing hundreds of millions to billions of dollars. AI tools are revolutionizing this process by potentially reducing both the time and cost involved. This shift is reshaping the economics of the industry, making drug development more accessible and sustainable.\n",
       "\n",
       "### 4. Investment and Market Potential\n",
       "\n",
       "The potential of AI in drug discovery has captured the attention of investors, leading to increased third-party investment in AI-enabled drug discovery. According to Morgan Stanley, even modest improvements in early-stage drug development success rates through AI could lead to the creation of 50 novel therapies over a decade. This represents a market opportunity exceeding $50 billion, highlighting the significant economic potential of AI in this field.\n",
       "\n",
       "## Conclusion\n",
       "\n",
       "AI is poised to revolutionize drug discovery by improving efficiency, reducing costs, and increasing the success rate of developing new therapies. As the pharmaceutical industry continues to embrace AI, it is expected to unlock unprecedented opportunities for innovation and growth. The transformative impact of AI on drug discovery and development is not only reshaping the industry but also paving the way for a new era of medical advancements."
      ],
      "text/plain": [
       "<IPython.core.display.Markdown object>"
      ]
     },
     "metadata": {},
     "output_type": "display_data"
    }
   ],
   "source": [
    "# --- 8. Run the Graph ---\n",
    "topic = \"Latest advancements in AI-powered drug discovery\"\n",
    "\n",
    "inputs = {\n",
    "    \"topic\": topic,\n",
    "    \"messages\": [HumanMessage(content=f\"Research the topic: {topic}\")],\n",
    "    \"report\": \"\"\n",
    "}\n",
    "\n",
    "print(f\"🚀 Running the graph for topic: {topic}\")\n",
    "final_state = app.invoke(inputs)\n",
    "\n",
    "final_report = final_state.get(\"report\", \"\")\n",
    "print(\"✅ Run complete.\")\n",
    "\n",
    "from IPython.display import Markdown, display\n",
    "if final_report:\n",
    "    display(Markdown(final_report))\n",
    "else:\n",
    "    print(\"❌ No report generated.\")\n"
   ]
  },
  {
   "cell_type": "code",
   "execution_count": null,
   "id": "b7fff92f",
   "metadata": {},
   "outputs": [
    {
     "name": "stdout",
     "output_type": "stream",
     "text": [
      "📄 Final Report Generated:\n"
     ]
    },
    {
     "data": {
      "text/markdown": [
       "# Report on the Application of Artificial Intelligence in Drug Discovery\n",
       "\n",
       "## Executive Summary\n",
       "\n",
       "The integration of artificial intelligence (AI) into drug discovery is revolutionizing the pharmaceutical industry. This report outlines the transformative role AI plays in enhancing the efficiency, speed, and success rates of drug development. AI's application spans from target identification to clinical trials, offering significant economic opportunities and attracting substantial investment. Despite the promising advancements, challenges remain that need to be addressed to fully harness AI's potential in this field.\n",
       "\n",
       "## Key Insights\n",
       "\n",
       "1. **AI's Transformative Role**: \n",
       "   - AI is significantly altering the traditional drug discovery process, which is known for being time-consuming and costly.\n",
       "   - AI tools are now integrated into nearly every stage of drug discovery, from target identification to clinical trials, with the potential to accelerate timelines and reduce costs.\n",
       "\n",
       "2. **Economic Impact**:\n",
       "   - The integration of AI in drug discovery represents not only a scientific advancement but also a substantial economic opportunity.\n",
       "   - According to Morgan Stanley, even modest improvements in early-stage drug development success rates through AI could lead to the creation of 50 novel therapies over a decade, representing a potential $50 billion market opportunity.\n",
       "\n",
       "3. **Investment Trends**:\n",
       "   - There is a growing interest from investors in AI-enabled drug discovery, evidenced by increasing third-party investments in the sector.\n",
       "   - This interest is driven by AI's potential to improve success rates and efficiency in drug development.\n",
       "\n",
       "4. **Technological Advancements**:\n",
       "   - AI technologies, including deep learning and multiomics, are advancing the field of drug discovery.\n",
       "   - These technologies are particularly impactful in disease modeling and target identification, which are crucial initial steps in the drug development process.\n",
       "\n",
       "5. **AI-Driven Target Discovery**:\n",
       "   - AI is playing a growing role in modern drug target identification, traditionally a lengthy process.\n",
       "   - AI's ability to analyze large datasets and complex biological networks is enhancing the efficiency and success rates of target discovery.\n",
       "\n",
       "6. **Clinical Trials and Validation**:\n",
       "   - An increasing number of AI-identified drug targets are being validated through experiments.\n",
       "   - Several AI-derived drugs are entering clinical trials, marking a significant step forward in the practical application of AI in pharmaceuticals.\n",
       "\n",
       "7. **Challenges and Future Directions**:\n",
       "   - Despite the benefits, there are current limitations and challenges that need to be addressed.\n",
       "   - These include balancing novelty and confidence in target selection and overcoming technical and regulatory hurdles to fully realize AI's potential in drug discovery.\n",
       "\n",
       "In conclusion, AI is poised to revolutionize the pharmaceutical industry by enhancing the speed, efficiency, and success rates of drug discovery and development. However, addressing the existing challenges will be crucial to fully leverage AI's capabilities in this transformative journey."
      ],
      "text/plain": [
       "<IPython.core.display.Markdown object>"
      ]
     },
     "metadata": {},
     "output_type": "display_data"
    },
    {
     "name": "stdout",
     "output_type": "stream",
     "text": [
      "💾 Report saved as report.md\n"
     ]
    }
   ],
   "source": [
    "# # --- 9. Display Final Report ---\n",
    "# from IPython.display import Markdown, display\n",
    "\n",
    "# if final_report:\n",
    "#     print(\"📄 Final Report Generated:\")\n",
    "#     display(Markdown(final_report))\n",
    "# else:\n",
    "#     print(\"❌ No report generated.\")\n",
    "\n",
    "# # Save to file\n",
    "# with open(\"report.md\", \"w\", encoding=\"utf-8\") as f:\n",
    "#     f.write(final_report)\n",
    "\n",
    "# print(\"💾 Report saved as report.md\")\n"
   ]
  },
  {
   "cell_type": "code",
   "execution_count": null,
   "id": "c071d2ff",
   "metadata": {},
   "outputs": [],
   "source": []
  }
 ],
 "metadata": {
  "kernelspec": {
   "display_name": "venv",
   "language": "python",
   "name": "python3"
  },
  "language_info": {
   "codemirror_mode": {
    "name": "ipython",
    "version": 3
   },
   "file_extension": ".py",
   "mimetype": "text/x-python",
   "name": "python",
   "nbconvert_exporter": "python",
   "pygments_lexer": "ipython3",
   "version": "3.10.8"
  }
 },
 "nbformat": 4,
 "nbformat_minor": 5
}
